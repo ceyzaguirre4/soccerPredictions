{
 "cells": [
  {
   "cell_type": "code",
   "execution_count": 10,
   "metadata": {},
   "outputs": [],
   "source": [
    "# getting sofifa stats\n",
    "import requests\n",
    "import json\n",
    "resp = requests.get('http://www.easports.com/fifa/ultimate-team/api/fut/item?jsonParamObject={\"id\":\"' + str(20801) + '\"}')"
   ]
  },
  {
   "cell_type": "code",
   "execution_count": 11,
   "metadata": {},
   "outputs": [],
   "source": [
    "pos2index = {'LF': 16, 'RWB': 2, 'DM': 7, 'LB': 5, 'CM': 12, 'CB': 6, 'AM': 13, 'LM': 10, 'SW': 1, 'CF': 14, 'ST': 17, 'LW': 9, 'RF': 15, 'RW': 8, 'RB': 4, 'LWB': 3, 'RM': 11, 'GK': 0}\n",
    "foot2index = {\"Right\":0, \"left\":1}"
   ]
  },
  {
   "cell_type": "code",
   "execution_count": 12,
   "metadata": {},
   "outputs": [
    {
     "name": "stdout",
     "output_type": "stream",
     "text": [
      "Cristiano Ronaldo\n",
      "9 1985 0 185 80 33 89 63 89 63 93 85 81 91 94 76 7 11 15 14 11 88 29 95 77 92 22 85 95 94 96 83 94 23 91 31 92 80 85 88 4 94\n"
     ]
    }
   ],
   "source": [
    "# printing important stats\n",
    "obj = json.loads(resp.text)\n",
    "player = obj[\"items\"][0]\n",
    "print(player[\"name\"])\n",
    "print(pos2index[player[\"position\"]],\n",
    "    int(player[\"birthdate\"].split(\"-\", 1)[0]),\n",
    "    foot2index[player[\"foot\"]],\n",
    "    player[\"height\"],\n",
    "    player[\"weight\"],\n",
    "    player[\"age\"],\n",
    "    player[\"acceleration\"],\n",
    "    player[\"aggression\"],\n",
    "    player[\"agility\"],\n",
    "    player[\"balance\"],\n",
    "    player[\"ballcontrol\"],\n",
    "    player[\"crossing\"],\n",
    "    player[\"curve\"],\n",
    "    player[\"dribbling\"],\n",
    "    player[\"finishing\"],\n",
    "    player[\"freekickaccuracy\"],\n",
    "    player[\"gkdiving\"],\n",
    "    player[\"gkhandling\"],\n",
    "    player[\"gkkicking\"],\n",
    "    player[\"gkpositioning\"],\n",
    "    player[\"gkreflexes\"],\n",
    "    player[\"headingaccuracy\"],\n",
    "    player[\"interceptions\"],\n",
    "    player[\"jumping\"],\n",
    "    player[\"longpassing\"],\n",
    "    player[\"longshots\"],\n",
    "    player[\"marking\"],\n",
    "    player[\"penalties\"],\n",
    "    player[\"positioning\"],\n",
    "    player[\"potential\"],\n",
    "    player[\"reactions\"],\n",
    "    player[\"shortpassing\"],\n",
    "    player[\"shotpower\"],\n",
    "    player[\"slidingtackle\"],\n",
    "    player[\"sprintspeed\"],\n",
    "    player[\"standingtackle\"],\n",
    "    player[\"stamina\"],\n",
    "    player[\"strength\"],\n",
    "    player[\"vision\"],\n",
    "    player[\"volleys\"],\n",
    "    player[\"weakFoot\"],\n",
    "    player[\"rating\"])"
   ]
  },
  {
   "cell_type": "code",
   "execution_count": null,
   "metadata": {},
   "outputs": [],
   "source": []
  }
 ],
 "metadata": {
  "kernelspec": {
   "display_name": "Python 3",
   "language": "python",
   "name": "python3"
  },
  "language_info": {
   "codemirror_mode": {
    "name": "ipython",
    "version": 3
   },
   "file_extension": ".py",
   "mimetype": "text/x-python",
   "name": "python",
   "nbconvert_exporter": "python",
   "pygments_lexer": "ipython3",
   "version": "3.6.5"
  }
 },
 "nbformat": 4,
 "nbformat_minor": 2
}
